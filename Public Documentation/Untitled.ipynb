{
 "cells": [
  {
   "cell_type": "code",
   "execution_count": 5,
   "id": "4ab6b077-420f-41a2-b877-ed92f3ffd3af",
   "metadata": {},
   "outputs": [
    {
     "ename": "AttributeError",
     "evalue": "module 'streamlit' has no attribute 'async_function'",
     "output_type": "error",
     "traceback": [
      "\u001b[0;31m---------------------------------------------------------------------------\u001b[0m",
      "\u001b[0;31mAttributeError\u001b[0m                            Traceback (most recent call last)",
      "\u001b[0;32m/var/folders/63/qmm7zss12650kwt6zd53vqx40000gn/T/ipykernel_9760/1832488204.py\u001b[0m in \u001b[0;36m<module>\u001b[0;34m\u001b[0m\n\u001b[1;32m     20\u001b[0m \u001b[0;34m\u001b[0m\u001b[0m\n\u001b[1;32m     21\u001b[0m \u001b[0;31m# Run the KDE plot asynchronously\u001b[0m\u001b[0;34m\u001b[0m\u001b[0;34m\u001b[0m\u001b[0m\n\u001b[0;32m---> 22\u001b[0;31m \u001b[0mst\u001b[0m\u001b[0;34m.\u001b[0m\u001b[0masync_function\u001b[0m\u001b[0;34m(\u001b[0m\u001b[0mplot_kde_plot\u001b[0m\u001b[0;34m)\u001b[0m\u001b[0;34m\u001b[0m\u001b[0;34m\u001b[0m\u001b[0m\n\u001b[0m",
      "\u001b[0;31mAttributeError\u001b[0m: module 'streamlit' has no attribute 'async_function'"
     ]
    }
   ],
   "source": [
    "import streamlit as st\n",
    "import numpy as np\n",
    "import matplotlib.pyplot as plt\n",
    "\n",
    "# Define the slider\n",
    "slider = st.slider(\"Number of samples\", 0, 1000000, 1000)\n",
    "\n",
    "# Generate a random sample from a standard normal distribution\n",
    "samples = np.random.normal(0, 1, slider)\n",
    "\n",
    "# Plot the histogram\n",
    "plt.hist(samples, bins=100)\n",
    "\n",
    "# Plot the KDE plot\n",
    "async def plot_kde_plot():\n",
    "    plt.plot(samples, np.ones(len(samples)) / len(samples), color=\"blue\")\n",
    "\n",
    "# Display the plot in Streamlit\n",
    "st.pyplot(plt)\n",
    "\n",
    "# Run the KDE plot asynchronously\n",
    "st.async_function(plot_kde_plot)"
   ]
  }
 ],
 "metadata": {
  "kernelspec": {
   "display_name": "Python 3 (ipykernel)",
   "language": "python",
   "name": "python3"
  },
  "language_info": {
   "codemirror_mode": {
    "name": "ipython",
    "version": 3
   },
   "file_extension": ".py",
   "mimetype": "text/x-python",
   "name": "python",
   "nbconvert_exporter": "python",
   "pygments_lexer": "ipython3",
   "version": "3.9.13"
  }
 },
 "nbformat": 4,
 "nbformat_minor": 5
}
